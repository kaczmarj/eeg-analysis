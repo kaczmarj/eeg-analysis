{
 "cells": [
  {
   "cell_type": "code",
   "execution_count": 1,
   "metadata": {
    "collapsed": true
   },
   "outputs": [],
   "source": [
    "%matplotlib qt"
   ]
  },
  {
   "cell_type": "code",
   "execution_count": 2,
   "metadata": {
    "collapsed": false
   },
   "outputs": [],
   "source": [
    "\"\"\"\n",
    "Use this script to time various steps in EEG analysis with MNE-Python\n",
    "\"\"\"\n",
    "from mne import set_log_level\n",
    "from mne.io import read_raw_eeglab\n",
    "from mne.preprocessing import ICA\n",
    "\n",
    "set_log_level(verbose='warning')"
   ]
  },
  {
   "cell_type": "code",
   "execution_count": 3,
   "metadata": {
    "collapsed": false,
    "scrolled": true
   },
   "outputs": [],
   "source": [
    "# Load raw .set file.\n",
    "raw_fname = '../data/1_raw/20160910083157_NEU_001_song_Protocol 1.easy.set'\n",
    "raw = read_raw_eeglab(raw_fname, preload=True)"
   ]
  },
  {
   "cell_type": "code",
   "execution_count": 4,
   "metadata": {
    "collapsed": false
   },
   "outputs": [
    {
     "name": "stdout",
     "output_type": "stream",
     "text": [
      "100 loops, best of 3: 12.6 ms per loop\n"
     ]
    }
   ],
   "source": [
    "%timeit raw.copy()"
   ]
  },
  {
   "cell_type": "code",
   "execution_count": 5,
   "metadata": {
    "collapsed": false,
    "scrolled": false
   },
   "outputs": [
    {
     "name": "stdout",
     "output_type": "stream",
     "text": [
      "1 loop, best of 3: 303 ms per loop\n"
     ]
    }
   ],
   "source": [
    "%%timeit\n",
    "# High-pass filter\n",
    "# The resulting time is slightly conservative because we also make a copy\n",
    "# of the Raw object. We make a copy so we don't filter data that has already\n",
    "# been filtered (remember, filtering happens in-place).\n",
    "raw.copy().filter(l_freq=0.5, h_freq=None, phase='zero', fir_window='hamming', \n",
    "           l_trans_bandwidth='auto', h_trans_bandwidth='auto', \n",
    "           filter_length='auto')"
   ]
  },
  {
   "cell_type": "code",
   "execution_count": 6,
   "metadata": {
    "collapsed": false,
    "scrolled": false
   },
   "outputs": [
    {
     "name": "stdout",
     "output_type": "stream",
     "text": [
      "1 loop, best of 3: 252 ms per loop\n"
     ]
    }
   ],
   "source": [
    "%%timeit\n",
    "# Low-pass filter\n",
    "raw.copy().filter(l_freq=None, h_freq=40., phase='zero', fir_window='hamming', \n",
    "           l_trans_bandwidth='auto', h_trans_bandwidth='auto', \n",
    "           filter_length='auto')"
   ]
  },
  {
   "cell_type": "code",
   "execution_count": 7,
   "metadata": {
    "collapsed": false
   },
   "outputs": [
    {
     "name": "stdout",
     "output_type": "stream",
     "text": [
      "1 loop, best of 3: 43.4 s per loop\n"
     ]
    }
   ],
   "source": [
    "# Compute Independent Component Analysis solution\n",
    "%timeit ICA(method='extended-infomax').fit(raw.copy())"
   ]
  },
  {
   "cell_type": "code",
   "execution_count": 1,
   "metadata": {
    "collapsed": false
   },
   "outputs": [
    {
     "ename": "NameError",
     "evalue": "name 'eeg' is not defined",
     "output_type": "error",
     "traceback": [
      "\u001b[0;31m---------------------------------------------------------------------------\u001b[0m",
      "\u001b[0;31mNameError\u001b[0m                                 Traceback (most recent call last)",
      "\u001b[0;32m<ipython-input-1-873b819e0a17>\u001b[0m in \u001b[0;36m<module>\u001b[0;34m()\u001b[0m\n\u001b[0;32m----> 1\u001b[0;31m \u001b[0meeg\u001b[0m\u001b[0;34m\u001b[0m\u001b[0m\n\u001b[0m",
      "\u001b[0;31mNameError\u001b[0m: name 'eeg' is not defined"
     ]
    }
   ],
   "source": [
    "eeg"
   ]
  },
  {
   "cell_type": "code",
   "execution_count": null,
   "metadata": {
    "collapsed": true
   },
   "outputs": [],
   "source": []
  },
  {
   "cell_type": "code",
   "execution_count": null,
   "metadata": {
    "collapsed": true
   },
   "outputs": [],
   "source": []
  }
 ],
 "metadata": {
  "anaconda-cloud": {},
  "kernelspec": {
   "display_name": "Python [Root]",
   "language": "python",
   "name": "Python [Root]"
  },
  "language_info": {
   "codemirror_mode": {
    "name": "ipython",
    "version": 2
   },
   "file_extension": ".py",
   "mimetype": "text/x-python",
   "name": "python",
   "nbconvert_exporter": "python",
   "pygments_lexer": "ipython2",
   "version": "2.7.12"
  }
 },
 "nbformat": 4,
 "nbformat_minor": 0
}
