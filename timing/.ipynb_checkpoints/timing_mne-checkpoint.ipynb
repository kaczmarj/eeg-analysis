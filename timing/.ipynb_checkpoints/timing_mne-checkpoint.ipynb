{
 "cells": [
  {
   "cell_type": "code",
   "execution_count": null,
   "metadata": {
    "collapsed": true
   },
   "outputs": [],
   "source": [
    "%matplotlib qt"
   ]
  },
  {
   "cell_type": "code",
   "execution_count": null,
   "metadata": {
    "collapsed": false
   },
   "outputs": [],
   "source": [
    "\"\"\"\n",
    "Use this script to time various steps in EEG analysis with MNE-Python\n",
    "\"\"\"\n",
    "from mne import set_log_level\n",
    "from mne.io import read_raw_eeglab\n",
    "from mne.preprocessing import ICA\n",
    "\n",
    "set_log_level(verbose='warning')"
   ]
  },
  {
   "cell_type": "code",
   "execution_count": null,
   "metadata": {
    "collapsed": false,
    "scrolled": true
   },
   "outputs": [],
   "source": [
    "# Load raw .set file.\n",
    "raw_fname = '../data/1_raw/20160910083157_NEU_001_song_Protocol 1.easy.set'\n",
    "raw = read_raw_eeglab(raw_fname, preload=True)"
   ]
  },
  {
   "cell_type": "code",
   "execution_count": null,
   "metadata": {
    "collapsed": false
   },
   "outputs": [],
   "source": [
    "%timeit raw.copy()"
   ]
  },
  {
   "cell_type": "code",
   "execution_count": null,
   "metadata": {
    "collapsed": false,
    "scrolled": false
   },
   "outputs": [],
   "source": [
    "%%timeit\n",
    "# High-pass filter\n",
    "# The resulting time is slightly conservative because we also make a copy\n",
    "# of the Raw object. We make a copy so we don't filter data that has already\n",
    "# been filtered (remember, filtering happens in-place).\n",
    "raw.copy().filter(l_freq=0.5, h_freq=None, phase='zero', fir_window='hamming', \n",
    "           l_trans_bandwidth='auto', h_trans_bandwidth='auto', \n",
    "           filter_length='auto')"
   ]
  },
  {
   "cell_type": "code",
   "execution_count": null,
   "metadata": {
    "collapsed": false,
    "scrolled": false
   },
   "outputs": [],
   "source": [
    "%%timeit\n",
    "# Low-pass filter\n",
    "raw.copy().filter(l_freq=None, h_freq=40., phase='zero', fir_window='hamming', \n",
    "           l_trans_bandwidth='auto', h_trans_bandwidth='auto', \n",
    "           filter_length='auto')"
   ]
  },
  {
   "cell_type": "code",
   "execution_count": null,
   "metadata": {
    "collapsed": true
   },
   "outputs": [],
   "source": [
    "# Compute Independent Component Analysis solution\n",
    "%timeit ICA(method='extended-infomax').fit(raw.copy())"
   ]
  },
  {
   "cell_type": "code",
   "execution_count": null,
   "metadata": {
    "collapsed": true
   },
   "outputs": [],
   "source": []
  },
  {
   "cell_type": "code",
   "execution_count": null,
   "metadata": {
    "collapsed": true
   },
   "outputs": [],
   "source": []
  },
  {
   "cell_type": "code",
   "execution_count": null,
   "metadata": {
    "collapsed": true
   },
   "outputs": [],
   "source": []
  }
 ],
 "metadata": {
  "anaconda-cloud": {},
  "kernelspec": {
   "display_name": "Python [Root]",
   "language": "python",
   "name": "Python [Root]"
  },
  "language_info": {
   "codemirror_mode": {
    "name": "ipython",
    "version": 2
   },
   "file_extension": ".py",
   "mimetype": "text/x-python",
   "name": "python",
   "nbconvert_exporter": "python",
   "pygments_lexer": "ipython2",
   "version": "2.7.12"
  }
 },
 "nbformat": 4,
 "nbformat_minor": 0
}
